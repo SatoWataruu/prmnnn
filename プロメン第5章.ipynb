{
  "nbformat": 4,
  "nbformat_minor": 0,
  "metadata": {
    "colab": {
      "provenance": []
    },
    "kernelspec": {
      "name": "python3",
      "display_name": "Python 3"
    },
    "language_info": {
      "name": "python"
    }
  },
  "cells": [
    {
      "cell_type": "code",
      "execution_count": 125,
      "metadata": {
        "colab": {
          "base_uri": "https://localhost:8080/"
        },
        "id": "UVpnDkg1kueP",
        "outputId": "0c243f9b-d154-4cb6-988b-58b9e4c32db3"
      },
      "outputs": [
        {
          "output_type": "stream",
          "name": "stdout",
          "text": [
            "1つ目のリスト：[1, 2, 4, 6, 7]\n",
            "2つ目のリスト：[2, 4, 5, 6, 9]\n",
            "重複削除リスト[1, 2, 4, 5, 6, 7, 9]\n",
            "共通要素リスト[2, 4, 6]\n"
          ]
        }
      ],
      "source": [
        "#課題1\n",
        "import random\n",
        "\n",
        "num_list = [i for i in range(1,10)]\n",
        "random.shuffle(num_list)\n",
        "set1 = set(num_list[:5])\n",
        "list1 = list(set1)\n",
        "print('1つ目のリスト：',list1, sep = '')\n",
        "\n",
        "random.shuffle(num_list)\n",
        "set2 = set(num_list[:5])\n",
        "list2 = list(set2)\n",
        "print('2つ目のリスト：',list2, sep = '')\n",
        "\n",
        "list3 = list1 + list2\n",
        "set3 = set(list3)\n",
        "list3 = list(set3)\n",
        "print('重複削除リスト', list3, sep = '')\n",
        "\n",
        "list4 = []\n",
        "for i in range(5):\n",
        "  for j in range(5):\n",
        "    if list1[i] == list2[j]:\n",
        "      list4.append(list1[i])\n",
        "print('共通要素リスト',list4, sep = '')"
      ]
    },
    {
      "cell_type": "code",
      "source": [
        "#課題2\n",
        "todohuken_data = [{\"コード\": 24, \"都道府県\": \"三重\", \"県庁所在地\": \"津\"},\n",
        "                  {\"コード\": 25, \"都道府県\": \"滋賀\", \"県庁所在地\": \"大津\"},\n",
        "                  {\"コード\": 31, \"都道府県\": \"鳥取\"},\n",
        "                  {\"コード\": 32, \"都道府県\": \"島根\", \"県庁所在地\": \"松江\"},\n",
        "                  {\"コード\": 37, \"都道府県\": \"香川\", \"県庁所在地\": \"高松\"},\n",
        "                  {\"コード\": 38, \"都道府県\": \"愛媛\", \"県庁所在地\": \"松山\"},]\n",
        "list1 = [d.get(\"コード\") for d in todohuken_data]\n",
        "print(list1)\n",
        "list2 = [d.get(\"都道府県\") for d in todohuken_data]\n",
        "print(list2)\n",
        "list2 = [d.get(\"県庁所在地\") for d in todohuken_data]\n",
        "print(list2)"
      ],
      "metadata": {
        "id": "J_qGCvFuEKnX",
        "outputId": "48579114-681b-4820-a8e3-5a573ecb1a4e",
        "colab": {
          "base_uri": "https://localhost:8080/"
        }
      },
      "execution_count": 134,
      "outputs": [
        {
          "output_type": "stream",
          "name": "stdout",
          "text": [
            "[24, 25, 31, 32, 37, 38]\n",
            "['三重', '滋賀', '鳥取', '島根', '香川', '愛媛']\n",
            "['津', '大津', None, '松江', '高松', '松山']\n"
          ]
        }
      ]
    },
    {
      "cell_type": "code",
      "source": [
        "#課題3\n",
        "string = \"Hello,World!\"\n",
        "string = ''.join(c for c in string if c.isalpha())\n",
        "a = sorted(string)\n",
        "dict = {}\n",
        "\n",
        "for i in range(len(a)):\n",
        "  m = string.count(a[i])\n",
        "  dict[a[i]] = m\n",
        "\n",
        "print(dict)"
      ],
      "metadata": {
        "id": "m9BUV8j0HZze",
        "outputId": "6983321d-9a4e-464c-bae9-8f94252c28bf",
        "colab": {
          "base_uri": "https://localhost:8080/"
        }
      },
      "execution_count": 138,
      "outputs": [
        {
          "output_type": "stream",
          "name": "stdout",
          "text": [
            "{'H': 1, 'W': 1, 'd': 1, 'e': 1, 'l': 3, 'o': 2, 'r': 1}\n"
          ]
        }
      ]
    },
    {
      "cell_type": "code",
      "source": [
        "#課題4\n",
        "university_dic = {\n",
        "    \"Chitose\" : 25,\n",
        "    \"Hokudai\" : 105,\n",
        "    \"Muroran\" : 74,\n",
        "    \"Hakodate\": 23,\n",
        "}  \n",
        "a = sorted(university_dic.items(), key = lambda x:x[1])\n",
        "dict = {a[i][0]:a[i][1] for i in range(len(a))}\n",
        "print(dict)"
      ],
      "metadata": {
        "id": "DBZln8R7I6R5",
        "outputId": "72a5156e-6111-4e50-b118-78866ceb3fd0",
        "colab": {
          "base_uri": "https://localhost:8080/"
        }
      },
      "execution_count": 164,
      "outputs": [
        {
          "output_type": "stream",
          "name": "stdout",
          "text": [
            "{'Hakodate': 23, 'Chitose': 25, 'Muroran': 74, 'Hokudai': 105}\n"
          ]
        }
      ]
    },
    {
      "cell_type": "code",
      "source": [
        "#課題5\n",
        "Fizz = []\n",
        "Buzz = []\n",
        "Jazz = []\n",
        "FizzBuzz = []\n",
        "FizzJazz = []\n",
        "BuzzJazz = []\n",
        "others = []\n",
        "\n",
        "N = 100\n",
        "for i in range(1, N + 1):\n",
        "  if i % 3 == 0 and i % 5 == 0:\n",
        "    FizzBuzz.append(i)\n",
        "  elif i % 3 == 0 and i % 7 == 0:\n",
        "    FizzJazz.append(i)\n",
        "  elif i % 5 == 0 and i % 7 == 0:\n",
        "    BuzzJazz.append(i)\n",
        "  elif i % 3 == 0:\n",
        "    Fizz.append(i)\n",
        "  elif i % 5 == 0:\n",
        "    Buzz.append(i)\n",
        "  elif i % 7 == 0:\n",
        "    Jazz.append(i)\n",
        "  else:\n",
        "    others.append(i)\n",
        "\n",
        "dic = {'Fizz':len(Fizz),'Buzz':len(Buzz),'Jazz':len(Jazz),'FizzBuzz':len(FizzBuzz),'FizzJazz':len(FizzJazz),'BuzzJazz':len(BuzzJazz),'others':len(others)}\n",
        "print(dic)\n",
        "    "
      ],
      "metadata": {
        "id": "YPSDxoFGMBzV",
        "outputId": "5e7cea7d-1d08-4c1a-f857-21d665c48c58",
        "colab": {
          "base_uri": "https://localhost:8080/"
        }
      },
      "execution_count": 168,
      "outputs": [
        {
          "output_type": "stream",
          "name": "stdout",
          "text": [
            "{'Fizz': 23, 'Buzz': 12, 'Jazz': 8, 'FizzBuzz': 6, 'FizzJazz': 4, 'BuzzJazz': 2, 'others': 45}\n"
          ]
        }
      ]
    }
  ]
}