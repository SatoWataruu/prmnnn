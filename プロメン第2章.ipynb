{
  "nbformat": 4,
  "nbformat_minor": 0,
  "metadata": {
    "colab": {
      "provenance": []
    },
    "kernelspec": {
      "name": "python3",
      "display_name": "Python 3"
    },
    "language_info": {
      "name": "python"
    }
  },
  "cells": [
    {
      "cell_type": "code",
      "execution_count": 98,
      "metadata": {
        "colab": {
          "base_uri": "https://localhost:8080/"
        },
        "id": "zzlXjVkwivW7",
        "outputId": "400c449c-680a-47f6-8c39-a4b3964f903b"
      },
      "outputs": [
        {
          "output_type": "stream",
          "name": "stdout",
          "text": [
            "   *\n",
            "  ***\n",
            " *****\n",
            "*******\n"
          ]
        }
      ],
      "source": [
        "#課題1\n",
        "for i in range(1,5):\n",
        "  print(' '*(4-i)+'*'*(2*i-1))"
      ]
    },
    {
      "cell_type": "code",
      "source": [
        "#課題2\n",
        "print('ピラミッドの段数を入力してください')\n",
        "n = int(input())\n",
        "\n",
        "for i in range(1,n+1):\n",
        "  print(' '*(n-i)+'*'*(2*i-1))"
      ],
      "metadata": {
        "colab": {
          "base_uri": "https://localhost:8080/"
        },
        "id": "LmEHrpa7uJBl",
        "outputId": "f6bc663b-f0f6-4fe3-b7b7-43a2755c206a"
      },
      "execution_count": 64,
      "outputs": [
        {
          "output_type": "stream",
          "name": "stdout",
          "text": [
            "ピラミッドの数を入力してください\n",
            "6\n",
            "     *\n",
            "    ***\n",
            "   *****\n",
            "  *******\n",
            " *********\n",
            "***********\n"
          ]
        }
      ]
    },
    {
      "cell_type": "code",
      "source": [
        "#課題3\n",
        "for i in range(1,5):\n",
        "  print(' '*(4-i)+'*'*(2*i-1))\n",
        "\n",
        "for i in range(3,0,-1):\n",
        "  print(' '*(4-i)+'*'*(2*i-1))"
      ],
      "metadata": {
        "colab": {
          "base_uri": "https://localhost:8080/"
        },
        "id": "gJYxpbxFvW79",
        "outputId": "ebaf7514-3555-431d-bcf5-16444bdbf8fd"
      },
      "execution_count": 68,
      "outputs": [
        {
          "output_type": "stream",
          "name": "stdout",
          "text": [
            "   *\n",
            "  ***\n",
            " *****\n",
            "*******\n",
            " *****\n",
            "  ***\n",
            "   *\n"
          ]
        }
      ]
    },
    {
      "cell_type": "code",
      "source": [
        "#課題4\n",
        "print('ピラミッドの段数を入力してください')\n",
        "n = int(input())\n",
        "\n",
        "for i in range(1,n+1):\n",
        "  print(' '*(n-i)+'*'*(2*i-1))\n",
        "\n",
        "for i in range(n-1,0,-1):\n",
        "  print(' '*(n-i)+'*'*(2*i-1))"
      ],
      "metadata": {
        "colab": {
          "base_uri": "https://localhost:8080/"
        },
        "id": "FTmiaFrwvuQ-",
        "outputId": "dcaf7ae8-051d-4c34-98ea-1e4d99493a48"
      },
      "execution_count": 72,
      "outputs": [
        {
          "output_type": "stream",
          "name": "stdout",
          "text": [
            "ピラミッドの段数を入力してください\n",
            "5\n",
            "    *\n",
            "   ***\n",
            "  *****\n",
            " *******\n",
            "*********\n",
            " *******\n",
            "  *****\n",
            "   ***\n",
            "    *\n"
          ]
        }
      ]
    },
    {
      "cell_type": "code",
      "source": [
        "#課題5\n",
        "for i in range(1,5):\n",
        "  print(' '*(4-i)+'*'*(2*i-1),end='')\n",
        "  print(' '*(3-i),end ='')\n",
        "  if(i != 4):\n",
        "    print(' '*(4-i)+'*'*(2*i-1))\n",
        "  elif(i == 4):\n",
        "    print(' '*(4-i)+'*'*(2*i-2))\n",
        "\n",
        "for i in range(3,0,-1):\n",
        "  print(' '*(4-i)+'*'*(2*i-1),end='')\n",
        "  print(' '*(3-i),end ='')\n",
        "  print(' '*(4-i)+'*'*(2*i-1))"
      ],
      "metadata": {
        "id": "vJw4siT4z5Et"
      },
      "execution_count": null,
      "outputs": []
    },
    {
      "cell_type": "code",
      "source": [
        "#課題6\n",
        "print('ピラミッドの段数を入力してください')\n",
        "n = int(input())\n",
        "\n",
        "for i in range(1,n+1):\n",
        "  print(' '*(n-i)+'*'*(2*i-1),end='')\n",
        "  print(' '*(n-1-i),end ='')\n",
        "  if(i != n):\n",
        "    print(' '*(n-i)+'*'*(2*i-1))\n",
        "  elif(i == n):\n",
        "    print(' '*(n-i)+'*'*(2*i-2))\n",
        "\n",
        "for i in range(n-1,0,-1):\n",
        "  print(' '*(n-i)+'*'*(2*i-1),end='')\n",
        "  print(' '*(n-1-i),end ='')\n",
        "  print(' '*(n-i)+'*'*(2*i-1))"
      ],
      "metadata": {
        "colab": {
          "base_uri": "https://localhost:8080/"
        },
        "id": "XcbVyCwGxGwl",
        "outputId": "df4d83e2-9d21-4731-841b-c61e8230dc3a"
      },
      "execution_count": 88,
      "outputs": [
        {
          "output_type": "stream",
          "name": "stdout",
          "text": [
            "ピラミッドの段数を入力してください\n",
            "6\n",
            "     *         *\n",
            "    ***       ***\n",
            "   *****     *****\n",
            "  *******   *******\n",
            " ********* *********\n",
            "*********************\n",
            " ********* *********\n",
            "  *******   *******\n",
            "   *****     *****\n",
            "    ***       ***\n",
            "     *         *\n"
          ]
        }
      ]
    },
    {
      "cell_type": "code",
      "source": [
        "#課題7\n",
        "for k in range(2):\n",
        "\n",
        "############ 二回繰り返す ############\n",
        "  for i in range(1,5):\n",
        "    if(k == 1 and i == 1):\n",
        "      continue\n",
        "    else:\n",
        "      print(' '*(4-i)+'*'*(2*i-1),end='')\n",
        "    print(' '*(3-i),end ='')\n",
        "    if(i != 4):\n",
        "      print(' '*(4-i)+'*'*(2*i-1))\n",
        "    elif(i == 4):\n",
        "      print(' '*(4-i)+'*'*(2*i-2))\n",
        "\n",
        "  for i in range(3,0,-1):\n",
        "    print(' '*(4-i)+'*'*(2*i-1),end='')\n",
        "    print(' '*(3-i),end ='')\n",
        "    print(' '*(4-i)+'*'*(2*i-1))\n",
        "######################################"
      ],
      "metadata": {
        "colab": {
          "base_uri": "https://localhost:8080/"
        },
        "id": "uuqc26dF0a2d",
        "outputId": "6b992812-965f-4369-ddad-d5cf1666c968"
      },
      "execution_count": 100,
      "outputs": [
        {
          "output_type": "stream",
          "name": "stdout",
          "text": [
            "   *     *\n",
            "  ***   ***\n",
            " ***** *****\n",
            "*************\n",
            " ***** *****\n",
            "  ***   ***\n",
            "   *     *\n",
            "  ***   ***\n",
            " ***** *****\n",
            "*************\n",
            " ***** *****\n",
            "  ***   ***\n",
            "   *     *\n"
          ]
        }
      ]
    },
    {
      "cell_type": "code",
      "source": [
        "#課題6\n",
        "print('ピラミッドの段数を入力してください')\n",
        "n = int(input())\n",
        "\n",
        "for k in range(2):\n",
        "\n",
        "############ 二回繰り返す ############\n",
        "  for i in range(1,n+1):\n",
        "    if(k == 1 and i == 1):\n",
        "      continue\n",
        "    else:\n",
        "      print(' '*(n-i)+'*'*(2*i-1),end='')\n",
        "    print(' '*(n-1-i),end ='')\n",
        "    if(i != n):\n",
        "      print(' '*(n-i)+'*'*(2*i-1))\n",
        "    elif(i == n):\n",
        "      print(' '*(n-i)+'*'*(2*i-2))\n",
        "\n",
        "  for i in range(n-1,0,-1):\n",
        "    print(' '*(n-i)+'*'*(2*i-1),end='')\n",
        "    print(' '*(n-1-i),end ='')\n",
        "    print(' '*(n-i)+'*'*(2*i-1))\n",
        "######################################"
      ],
      "metadata": {
        "colab": {
          "base_uri": "https://localhost:8080/"
        },
        "id": "lVbiI_TI2ug3",
        "outputId": "69ff6237-7634-4ceb-c36b-b255f1265991"
      },
      "execution_count": 101,
      "outputs": [
        {
          "output_type": "stream",
          "name": "stdout",
          "text": [
            "ピラミッドの段数を入力してください\n",
            "5\n",
            "    *       *\n",
            "   ***     ***\n",
            "  *****   *****\n",
            " ******* *******\n",
            "*****************\n",
            " ******* *******\n",
            "  *****   *****\n",
            "   ***     ***\n",
            "    *       *\n",
            "   ***     ***\n",
            "  *****   *****\n",
            " ******* *******\n",
            "*****************\n",
            " ******* *******\n",
            "  *****   *****\n",
            "   ***     ***\n",
            "    *       *\n"
          ]
        }
      ]
    }
  ]
}