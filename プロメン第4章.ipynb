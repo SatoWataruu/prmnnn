{
  "nbformat": 4,
  "nbformat_minor": 0,
  "metadata": {
    "colab": {
      "provenance": []
    },
    "kernelspec": {
      "name": "python3",
      "display_name": "Python 3"
    },
    "language_info": {
      "name": "python"
    }
  },
  "cells": [
    {
      "cell_type": "code",
      "execution_count": null,
      "metadata": {
        "id": "hsxQS2TisRk5",
        "colab": {
          "base_uri": "https://localhost:8080/"
        },
        "outputId": "05984bfe-eddf-4db2-fb80-60a1e013b143"
      },
      "outputs": [
        {
          "output_type": "stream",
          "name": "stdout",
          "text": [
            "['b2222150', 'b2221660', 'b2222130', 'b2222370', 'b2220040']\n"
          ]
        }
      ],
      "source": [
        "#課題1\n",
        "import random\n",
        "list = []\n",
        "\n",
        "for i in range(5):\n",
        "  ran = random.randrange(10, 2800, 10) + 2220000\n",
        "  list.append(str(ran))\n",
        "\n",
        "for i in range(5):\n",
        "  list[i] = 'b' + list[i]\n",
        "\n",
        "print(list)"
      ]
    },
    {
      "cell_type": "code",
      "source": [
        "#課題2\n",
        "import random\n",
        "\n",
        "numlist = [i for i in range(1,10)]\n",
        "\n",
        "random.shuffle(numlist)\n",
        "list1 = numlist[:5]\n",
        "\n",
        "random.shuffle(numlist)\n",
        "list2 = numlist[:5]\n",
        "\n",
        "sumlist = [list1[i] + list2[i] for i in range(5)]\n",
        "\n",
        "print(f'1つ目のリスト{list1}')\n",
        "print(f'2つ目のリスト{list2}')\n",
        "print(f'足し合わせたリスト{sumlist}')"
      ],
      "metadata": {
        "colab": {
          "base_uri": "https://localhost:8080/"
        },
        "id": "amX7FXM-3WGv",
        "outputId": "75079e78-4ca4-49b1-aa67-b304657318c2"
      },
      "execution_count": 88,
      "outputs": [
        {
          "output_type": "stream",
          "name": "stdout",
          "text": [
            "1つ目のリスト[8, 3, 9, 6, 7]\n",
            "2つ目のリスト[9, 3, 6, 8, 1]\n",
            "足し合わせたリスト[17, 6, 15, 14, 8]\n"
          ]
        }
      ]
    },
    {
      "cell_type": "code",
      "source": [
        "#課題3\n",
        "import random\n",
        "\n",
        "todohuken_list = [\n",
        "    '北海道', '青森県', '岩手県', '宮城県', '秋田県', '山形県', '福島県', '茨城県', '栃木県', '群馬県', \n",
        "    '埼玉県', '千葉県', '東京都', '神奈川県', '新潟県', '富山県', '石川県', '福井県', '山梨県', '長野県', \n",
        "    '岐阜県', '静岡県', '愛知県', '三重県', '滋賀県', '京都府', '大阪府', '兵庫県', '奈良県', '和歌山県', \n",
        "    '鳥取県', '島根県', '岡山県', '広島県', '山口県', '徳島県', '香川県', '愛媛県', '高知県',  '福岡県', \n",
        "    '佐賀県', '長崎県', '熊本県', '大分県', '宮崎県', '鹿児島県', '沖縄県',\n",
        "]\n",
        "\n",
        "random.shuffle(todohuken_list)\n",
        "todohuken_list2 = [todohuken_list[i:4+i] for i in range(0, 47, 4)]\n",
        "\n",
        "print(todohuken_list2)"
      ],
      "metadata": {
        "colab": {
          "base_uri": "https://localhost:8080/"
        },
        "id": "NcNjc9SRVibU",
        "outputId": "ad7f0592-d640-458a-dffa-8cd268b10e8d"
      },
      "execution_count": 102,
      "outputs": [
        {
          "output_type": "stream",
          "name": "stdout",
          "text": [
            "[['埼玉県', '沖縄県', '愛知県', '青森県'], ['山形県', '熊本県', '石川県', '群馬県'], ['高知県', '富山県', '香川県', '岡山県'], ['山口県', '徳島県', '長崎県', '大分県'], ['栃木県', '山梨県', '長野県', '福井県'], ['神奈川県', '奈良県', '新潟県', '島根県'], ['滋賀県', '秋田県', '茨城県', '宮崎県'], ['東京都', '岩手県', '福島県', '千葉県'], ['福岡県', '兵庫県', '京都府', '鹿児島県'], ['佐賀県', '鳥取県', '大阪府', '愛媛県'], ['三重県', '宮城県', '岐阜県', '広島県'], ['和歌山県', '北海道', '静岡県']]\n"
          ]
        }
      ]
    },
    {
      "cell_type": "code",
      "source": [
        "#課題4\n",
        "university_list = [\n",
        "    \"Chitose,25\",\n",
        "    \"Hokudai,105\",\n",
        "    \"Muroran,74\",\n",
        "    \"Hakodate,23\",\n",
        "]\n",
        "\n",
        "nm_list = []\n",
        "print(university_list)\n",
        "\n",
        "university_dict = {25:\"Chitose,25\",105:\"Hokudai,105\",74:\"Muroran,74\",23:\"Hakodate,23\"}\n",
        "sorted(university_dict.items())\n",
        "\n",
        "for i in range(1,200):\n",
        "  if i in university_dict:\n",
        "    nm_list.append(university_dict[i])\n",
        "\n",
        "print(nm_list)"
      ],
      "metadata": {
        "colab": {
          "base_uri": "https://localhost:8080/"
        },
        "id": "87mTqd14djr-",
        "outputId": "62d5b5b0-a50e-4b58-803c-ec09d66b5829"
      },
      "execution_count": 45,
      "outputs": [
        {
          "output_type": "stream",
          "name": "stdout",
          "text": [
            "['Chitose,25', 'Hokudai,105', 'Muroran,74', 'Hakodate,23']\n",
            "['Hakodate,23', 'Chitose,25', 'Muroran,74', 'Hokudai,105']\n"
          ]
        }
      ]
    },
    {
      "cell_type": "code",
      "source": [
        "#課題5\n",
        "list = []\n",
        "\n",
        "for i in range(1,101):\n",
        "  if i % 3 == 0 and i % 5 == 0:\n",
        "    list.append(\"FizzBuzz\")\n",
        "  elif i % 3 == 0:\n",
        "    list.append(\"Fizz\")\n",
        "  elif i % 5 == 0:\n",
        "    list.append(\"Buzz\")\n",
        "  else:\n",
        "    list.append(\"others\")\n",
        "\n",
        "print('FizzBuzzの数：',list.count(\"FizzBuzz\"),sep = '')\n",
        "print('Fizzの数：',list.count(\"Fizz\"),sep = '') \n",
        "print('Buzzの数：',list.count(\"Buzz\"),sep = '')\n",
        "print('othersの数：',list.count(\"others\"),sep = '')"
      ],
      "metadata": {
        "colab": {
          "base_uri": "https://localhost:8080/"
        },
        "id": "FJawopxduYhg",
        "outputId": "d3bf1859-3e9c-4a65-acc1-13d3b4bfe577"
      },
      "execution_count": 55,
      "outputs": [
        {
          "output_type": "stream",
          "name": "stdout",
          "text": [
            "FizzBuzzの数：6\n",
            "Fizzの数：27\n",
            "Buzzの数：14\n",
            "othersの数：53\n"
          ]
        }
      ]
    },
    {
      "cell_type": "markdown",
      "source": [],
      "metadata": {
        "id": "XVGB-QtxdeqB"
      }
    }
  ]
}