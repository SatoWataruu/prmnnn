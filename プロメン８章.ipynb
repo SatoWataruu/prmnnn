{
  "nbformat": 4,
  "nbformat_minor": 0,
  "metadata": {
    "colab": {
      "provenance": []
    },
    "kernelspec": {
      "name": "python3",
      "display_name": "Python 3"
    },
    "language_info": {
      "name": "python"
    }
  },
  "cells": [
    {
      "cell_type": "code",
      "execution_count": 4,
      "metadata": {
        "colab": {
          "base_uri": "https://localhost:8080/"
        },
        "id": "nxHQn0zEL76u",
        "outputId": "1cb49f16-7510-4c88-9ef4-5349c9aa4047"
      },
      "outputs": [
        {
          "output_type": "stream",
          "name": "stdout",
          "text": [
            "歩いたよ\n",
            "飛んだよ\n",
            "跳んだよ\n",
            "綺麗に飛んだよ\n"
          ]
        }
      ],
      "source": [
        "#課題1\n",
        "insect_list= []\n",
        "class Insect:\n",
        "  def move(self):\n",
        "    print('歩いたよ')\n",
        "\n",
        "class Butterfly:\n",
        "  def move(self):\n",
        "    print('飛んだよ')\n",
        "\n",
        "class Locust:\n",
        "  def move(self):\n",
        "    print('跳んだよ')\n",
        "\n",
        "class SwallowtailButterfly:\n",
        "  def move(self):\n",
        "    print('綺麗に飛んだよ')\n",
        "\n",
        "#インスタンス化\n",
        "insect = Insect()\n",
        "butterfly = Butterfly()\n",
        "locust = Locust()\n",
        "swallowtailbutterfly = SwallowtailButterfly()\n",
        "\n",
        "#incect_listに格納\n",
        "insect_list.append(insect)\n",
        "insect_list.append(butterfly)\n",
        "insect_list.append(locust)\n",
        "insect_list.append(swallowtailbutterfly)\n",
        "\n",
        "#メソッドの呼び出し\n",
        "insect.move()\n",
        "butterfly.move()\n",
        "locust.move()\n",
        "swallowtailbutterfly.move()"
      ]
    },
    {
      "cell_type": "code",
      "source": [
        "#課題2\n",
        "class Car:\n",
        "  def __init__(self):\n",
        "    self.fuel = 0\n",
        "\n",
        "  def run(self):\n",
        "    if(self.fuel<=0):\n",
        "      print('燃料が足りないため走れませんでした。')\n",
        "    else:\n",
        "      print('燃料を1消費して走りました。')\n",
        "      self.fuel = self.fuel - 1\n",
        "\n",
        "class GasStation:\n",
        "  def refuel(self, car):\n",
        "    print('給油したことによりfuelが20増えました。')\n",
        "    car.fuel = car.fuel + 20\n",
        "\n",
        "#インスタンス化\n",
        "car = Car()\n",
        "gasstation = GasStation()\n",
        "\n",
        "#メソッドの呼び出し\n",
        "car.run()\n",
        "gasstation.refuel(car)\n",
        "car.run()"
      ],
      "metadata": {
        "colab": {
          "base_uri": "https://localhost:8080/"
        },
        "id": "TATlgJKQNlOx",
        "outputId": "8cca19c9-0ef2-4947-de54-fbf4873f1691"
      },
      "execution_count": 17,
      "outputs": [
        {
          "output_type": "stream",
          "name": "stdout",
          "text": [
            "燃料が足りないため走れませんでした。\n",
            "給油したことによりfuelが20増えました。\n",
            "燃料を1消費して走りました。\n"
          ]
        }
      ]
    },
    {
      "cell_type": "code",
      "source": [
        "#課題3\n",
        "class Account:\n",
        "  def __init__(self, name, number):\n",
        "    self.name = name\n",
        "    self.number = number\n",
        "    self.balance = 0\n",
        "\n",
        "class ATM:\n",
        "  def __init__(self):\n",
        "    self.accounts = []\n",
        "\n",
        "  def register_account(self, name, number):\n",
        "    account = Account(name, number)\n",
        "    self.accounts.append(account)\n",
        "    print(\"{}さんのアカウントを口座番号：{}で登録しました。\" .format(name, number))\n",
        "\n",
        "  def exists_account(self, name, number):\n",
        "    for account in self.accounts:\n",
        "      if account.name == name and account.number == number:\n",
        "        print(\"名前:{} 口座番号：{}は存在します。\" .format(name, number))\n",
        "        return True\n",
        "      else:\n",
        "        print(\"名前:{} 口座番号：{}は存在しません。\" .format(name, number))\n",
        "        return False\n",
        "\n",
        "  def deposit(self, number, money):\n",
        "    for account in self.accounts:\n",
        "      account.balance = account.balance + money\n",
        "    print(\"口座番号：{}に{}円入金しました\" .format(number, money))\n",
        "\n",
        "  def withdraw(self, number, money):\n",
        "    for account in self.accounts:\n",
        "      if account.number == number:\n",
        "        if account.balance >= money:\n",
        "          account.balance = account.balance - money\n",
        "          print(\"口座番号：{}から{}円引き出しました。残高：{}円です。\" .format(number, money, account.balance))\n",
        "        else:\n",
        "          print(\"口座番号：{}から{}円引き出せませんでした。残高：{}円です。\" .format(number, money, account.balance))\n",
        "\n",
        "atm = ATM()\n",
        "\n",
        "atm.exists_account(\"千歳太郎\",\"12345\")\n",
        "atm.register_account(\"千歳太郎\",\"12345\")\n",
        "\n",
        "#メソッドの呼び出し\n",
        "if atm.exists_account(\"千歳太郎\",\"12345\"):\n",
        "  atm.deposit(\"12345\", 1000)\n",
        "  atm.withdraw(\"12345\", 2000)\n",
        "  atm.withdraw(\"12345\", 500)"
      ],
      "metadata": {
        "colab": {
          "base_uri": "https://localhost:8080/"
        },
        "id": "n-CifnzhOQVq",
        "outputId": "e7da904b-8b70-470e-d4ff-7c856367aab0"
      },
      "execution_count": 24,
      "outputs": [
        {
          "output_type": "stream",
          "name": "stdout",
          "text": [
            "千歳太郎さんのアカウントを口座番号：12345で登録しました。\n",
            "名前:千歳太郎 口座番号：12345は存在します。\n",
            "口座番号：12345に1000円入金しました\n",
            "口座番号：12345から2000円引き出せませんでした。残高：1000円です。\n",
            "口座番号：12345から500円引き出しました。残高：500円です。\n"
          ]
        }
      ]
    },
    {
      "cell_type": "code",
      "source": [],
      "metadata": {
        "id": "GZEPNXNia6Bm"
      },
      "execution_count": null,
      "outputs": []
    }
  ]
}