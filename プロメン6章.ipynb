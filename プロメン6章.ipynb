{
  "nbformat": 4,
  "nbformat_minor": 0,
  "metadata": {
    "colab": {
      "provenance": []
    },
    "kernelspec": {
      "name": "python3",
      "display_name": "Python 3"
    },
    "language_info": {
      "name": "python"
    }
  },
  "cells": [
    {
      "cell_type": "code",
      "execution_count": 6,
      "metadata": {
        "colab": {
          "base_uri": "https://localhost:8080/"
        },
        "id": "gm4jCf7cDtTN",
        "outputId": "1b4c2cf3-b7c7-4254-9c27-d49b5a6ff6d8"
      },
      "outputs": [
        {
          "output_type": "stream",
          "name": "stdout",
          "text": [
            "{'pen': 8, 'i': 4, 'have': 4, 'apple': 4, 'pineapple': 4, 'a': 3, 'ppap': 1, 'an': 1}\n"
          ]
        }
      ],
      "source": [
        "#課題1 今回の章あまりにも分からなかったので答えを参考にして解きました。提出遅れてすみません。。\n",
        "import collections\n",
        "import string\n",
        "\n",
        "text = \"\"\"PPAP\n",
        "I have a pen.\n",
        "I have an apple.\n",
        "Apple pen！\n",
        "I have a pen.\n",
        "I have a pineapple.\n",
        "Pineapple pen！\n",
        "Apple pen.\n",
        "Pineapple pen.\n",
        "Pen-pineapple-Apple-pen！\"\"\"\n",
        "\n",
        "import string\n",
        "\n",
        "def word_count(text):\n",
        "\n",
        "  text = text.replace('！', '')\n",
        "  text = text.replace('-', ' ')\n",
        "  text = text.translate(str.maketrans('', '', string.punctuation))\n",
        "\n",
        "  words = text.lower().split()\n",
        "\n",
        "  counts = {}\n",
        "  for word in words:\n",
        "    counts[word] = counts.get(word, 0) + 1\n",
        "\n",
        "  freqs = sorted(counts.values(), reverse=True)\n",
        "  sorted_counts = {}\n",
        "  for freq in freqs:\n",
        "    for key in counts.keys():\n",
        "      if  counts[key] == freq:\n",
        "          sorted_counts[key] = freq\n",
        "\n",
        "  return sorted_counts\n",
        "\n",
        "sorted_dic = word_count(text)\n",
        "print(sorted_dic)"
      ]
    },
    {
      "cell_type": "code",
      "source": [
        "#課題2\n",
        "seiseki_data = {\"課題\" : [\"B+\",\"A\",\"B+\",\"A\",\"A\",\"A\",\"A\",\"A\",\"B+\",\"A\",\n",
        "                       \"A\",\"B+\",\"A\",\"B+\",\"A\"] ,\n",
        "             \"小テスト\" : [50,50,50,15,40,50,50,50,50,\n",
        "                           15,45,40,50,50]\n",
        "             }\n",
        "def henkan():\n",
        "  henkan_data = []\n",
        "  for kadai in seiseki_data[\"課題\"] :\n",
        "    kadai = kadai.replace(\"A\",\"5\").replace(\"B-\",\"2\").replace(\"B+\", \"4\").replace(\"B\",\"3\").replace(\"C+\",\"1\").replace(\"C\",\"0\")\n",
        "    henkan_data.append(int(kadai))\n",
        "\n",
        "  return henkan_data\n",
        "\n",
        "def assyuku():\n",
        "  return sum(seiseki_data[\"小テスト\"])*25/700\n",
        "\n",
        "henkan_data = henkan()\n",
        "assyuku_point = assyuku()\n",
        "print(f\"合計点は{sum(henkan_data) + assyuku_point}点です\")\n"
      ],
      "metadata": {
        "colab": {
          "base_uri": "https://localhost:8080/"
        },
        "id": "1BZkaLyxXHsy",
        "outputId": "8dd21673-8cea-4c56-df9b-8a6655e6877e"
      },
      "execution_count": 7,
      "outputs": [
        {
          "output_type": "stream",
          "name": "stdout",
          "text": [
            "合計点は91.60714285714286点です\n"
          ]
        }
      ]
    },
    {
      "cell_type": "code",
      "source": [
        "#課題3\n",
        "one_unit_class = (\"キャリア形成Ａ１（Ａ）\",\"千歳学(Ａ)\",\"言語リテラシー１(Ａ)\",\n",
        "                  \"理工学基礎実験１（Ａ）\",\"スポーツ総合１(Ａ)\",\"健康科学(Ａ・Ｂ)\")\n",
        "\n",
        "seiseki_data = {\"授業\":[\"物理学入門(Ａ・Ｂ)\",\"化学入門(Ａ・Ｂ)\",\"エレクトロニクス入門(Ａ・Ｂ)\",\n",
        "                      \"情報学基礎演習(Ａ)\",\"キャリア形成Ａ１（Ａ）\",\"千歳学(Ａ)\",\n",
        "                      \"言語リテラシー１(Ａ)\",\"微分積分学Ⅰ（Ａ）\",\"理工学基礎実験１（Ａ）\",\n",
        "                      \"理系のための基礎英語Ⅰ(Ａ)\",\"日本国憲法(遠隔)\",\"スポーツ総合１(Ａ)\",\n",
        "                      \"健康科学(Ａ・Ｂ)\"],\n",
        "\n",
        "              \"成績\":[\"良\",\"秀\",\"秀\",\"秀\",\"秀\",\"秀\",\"秀\",\"優\",\"優\",\"秀\",\"秀\",\"優\",\"優\"]\n",
        "              }\n",
        "\n",
        "def henkan():\n",
        "  henkan_data = []\n",
        "  for seiseki in seiseki_data[\"成績\"]:\n",
        "    seiseki = seiseki.replace(\"秀\",\"4\").replace(\"優\",\"3\").replace(\"良\",\"2\").replace(\"可\",\"1\").replace(\"不可\",\"0\")\n",
        "    henkan_data.append(int(seiseki))\n",
        "\n",
        "  return henkan_data\n",
        "\n",
        "def goukei():\n",
        "  sum = 0\n",
        "  tani = 0\n",
        "  for i,kamoku in  enumerate(seiseki_data[\"授業\"]):\n",
        "    if not kamoku in one_unit_class:\n",
        "      sum += 2*henkan_data[i]\n",
        "      tani += 2\n",
        "    else:\n",
        "      sum += henkan_data[i]\n",
        "      tani += 1\n",
        "  return sum,tani\n",
        "\n",
        "henkan_data = henkan()\n",
        "goukei_point,goukei_tani = goukei()\n",
        "print(f\"GPAは{goukei_point/goukei_tani}です\")"
      ],
      "metadata": {
        "id": "qNzXlkY9cNkw",
        "outputId": "a40a005b-f64e-41b1-f19e-7da367c348da",
        "colab": {
          "base_uri": "https://localhost:8080/"
        }
      },
      "execution_count": 8,
      "outputs": [
        {
          "output_type": "stream",
          "name": "stdout",
          "text": [
            "GPAは3.55です\n"
          ]
        }
      ]
    }
  ]
}